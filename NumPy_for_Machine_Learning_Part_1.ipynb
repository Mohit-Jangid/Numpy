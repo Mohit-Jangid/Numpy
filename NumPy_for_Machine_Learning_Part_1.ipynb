{
  "metadata": {
    "hide_input": false,
    "kernelspec": {
      "name": "python3",
      "display_name": "Python 3",
      "language": "python"
    },
    "language_info": {
      "name": "python",
      "version": "3.10.12",
      "mimetype": "text/x-python",
      "codemirror_mode": {
        "name": "ipython",
        "version": 3
      },
      "pygments_lexer": "ipython3",
      "nbconvert_exporter": "python",
      "file_extension": ".py"
    },
    "toc": {
      "base_numbering": 1,
      "nav_menu": {},
      "number_sections": true,
      "sideBar": true,
      "skip_h1_title": false,
      "title_cell": "Table of Contents",
      "title_sidebar": "Contents",
      "toc_cell": false,
      "toc_position": {},
      "toc_section_display": true,
      "toc_window_display": false
    },
    "kaggle": {
      "accelerator": "none",
      "dataSources": [],
      "dockerImageVersionId": 30587,
      "isInternetEnabled": true,
      "language": "python",
      "sourceType": "notebook",
      "isGpuEnabled": false
    },
    "colab": {
      "name": "NumPy for Machine Learning Part 1",
      "provenance": [],
      "include_colab_link": true
    }
  },
  "nbformat_minor": 0,
  "nbformat": 4,
  "cells": [
    {
      "cell_type": "markdown",
      "metadata": {
        "id": "view-in-github",
        "colab_type": "text"
      },
      "source": [
        "<a href=\"https://colab.research.google.com/github/Mohit-Jangid/Numpy/blob/main/NumPy_for_Machine_Learning_Part_1.ipynb\" target=\"_parent\"><img src=\"https://colab.research.google.com/assets/colab-badge.svg\" alt=\"Open In Colab\"/></a>"
      ]
    },
    {
      "cell_type": "markdown",
      "source": [
        "![](https://apmonitor.com/pds/uploads/Main/python_numpy.png)"
      ],
      "metadata": {
        "id": "VSPJYABU_n--"
      }
    },
    {
      "cell_type": "markdown",
      "source": [
        "<div style=\"color:white;\n",
        "           display:fill;\n",
        "           border-radius:5px;\n",
        "           background-color:#5642C5;\n",
        "           font-size:33px;\n",
        "           font-family:Nexa;\n",
        "           letter-spacing:0.5px\">\n",
        "        <p style=\"padding: 15px;\n",
        "              color:white;\">\n",
        "            <b>What is numpy?</b>\n",
        "        </p>\n",
        "</div>"
      ],
      "metadata": {
        "id": "awlEFg4g_n_C"
      }
    },
    {
      "cell_type": "markdown",
      "source": [
        "<blockquote style=\"margin-right:auto; margin-left:auto; background-color: #FAFAD2; padding: 1em; margin:2px;font-size:18px;font-family:Comic Sans Ms;color:#660000;letter-spacing:0.7px;text-align: justify;\">\n",
        "\n",
        "NumPy is a Python library that provides powerful and versatile array computations, mathematical functions, and other tools for various scientific domains. It is widely used in data science, machine learning, and scientific computing. NumPy offers comprehensive mathematical functions, random number generators, linear algebra routines, Fourier transforms, and more."
      ],
      "metadata": {
        "id": "Yqt1gQdv_n_D"
      }
    },
    {
      "cell_type": "markdown",
      "source": [
        "<font color=\"Blue\" size=+2 face=\"Times New Roman\"><div style=\"text-align: Left\">Numpy Vs Pandas</font>"
      ],
      "metadata": {
        "id": "i67SjO4D_n_E"
      }
    },
    {
      "cell_type": "markdown",
      "source": [
        "<blockquote style=\"margin-right:auto; margin-left:auto; background-color: #FAFAD2; padding: 1em; margin:3px;font-size:25px;font-family:Comic Sans Ms;color:#660000;letter-spacing:0.7px;text-align: justify;\">\n",
        "\n",
        "\n",
        "| NumPy | Pandas |\n",
        "|------------|-----------|\n",
        "| Provides powerful and versatile array computations, mathematical functions, and other tools for various scientific domains          | Built on top of NumPy and provides high-performance, fast, easy-to-use data structures, and data analysis tools for manipulating numeric data and time series.      |\n",
        "| Offers comprehensive mathematical functions, random number generators, linear algebra routines, Fourier transforms, and more.          | Offers powerful data analysis tools like DataFrame and Series, which provide rich time series functionality, data alignment, NA-friendly statistics, groupby, merge and join methods, and lots of other conveniences      |\n",
        "|Provides high-performance multidimensional arrays and tools to deal with them           |  Consumes more memory than NumPy but is more memory-efficient than other Python data analysis libraries.      |\n",
        "| Is used to perform scientific computing          | Is used for data manipulation and analysis    |"
      ],
      "metadata": {
        "id": "IijV4YPc_n_E"
      }
    },
    {
      "cell_type": "markdown",
      "source": [
        "# Creating Numpy Arrays"
      ],
      "metadata": {
        "id": "Xbioucxg_n_F"
      }
    },
    {
      "cell_type": "code",
      "source": [
        "# np.array\n",
        "import numpy as np\n",
        "\n",
        "# create numpy 1D array\n",
        "a = np.array([1, 2, 3, 4, 5])\n",
        "print(a)"
      ],
      "metadata": {
        "execution": {
          "iopub.status.busy": "2023-12-04T11:27:09.320091Z",
          "iopub.execute_input": "2023-12-04T11:27:09.321365Z",
          "iopub.status.idle": "2023-12-04T11:27:09.360804Z",
          "shell.execute_reply.started": "2023-12-04T11:27:09.321322Z",
          "shell.execute_reply": "2023-12-04T11:27:09.359397Z"
        },
        "trusted": true,
        "colab": {
          "base_uri": "https://localhost:8080/"
        },
        "id": "UmC0Masj_n_F",
        "outputId": "291e2761-5c5e-4889-8ec5-317f2bac722d"
      },
      "execution_count": 1,
      "outputs": [
        {
          "output_type": "stream",
          "name": "stdout",
          "text": [
            "[1 2 3 4 5]\n"
          ]
        }
      ]
    },
    {
      "cell_type": "code",
      "source": [
        "# type of array\n",
        "print(type(a))"
      ],
      "metadata": {
        "execution": {
          "iopub.status.busy": "2023-12-04T11:27:09.362951Z",
          "iopub.execute_input": "2023-12-04T11:27:09.36334Z",
          "iopub.status.idle": "2023-12-04T11:27:09.371313Z",
          "shell.execute_reply.started": "2023-12-04T11:27:09.363308Z",
          "shell.execute_reply": "2023-12-04T11:27:09.36959Z"
        },
        "trusted": true,
        "colab": {
          "base_uri": "https://localhost:8080/"
        },
        "id": "Rva120_i_n_H",
        "outputId": "9be936cb-77ff-435c-8d9b-dfb8189eab86"
      },
      "execution_count": 2,
      "outputs": [
        {
          "output_type": "stream",
          "name": "stdout",
          "text": [
            "<class 'numpy.ndarray'>\n"
          ]
        }
      ]
    },
    {
      "cell_type": "code",
      "source": [
        "#1D array of length 10 all values 0\n",
        "np.zeros(10)"
      ],
      "metadata": {
        "execution": {
          "iopub.status.busy": "2023-12-04T11:27:09.373749Z",
          "iopub.execute_input": "2023-12-04T11:27:09.374293Z",
          "iopub.status.idle": "2023-12-04T11:27:09.385613Z",
          "shell.execute_reply.started": "2023-12-04T11:27:09.374255Z",
          "shell.execute_reply": "2023-12-04T11:27:09.384397Z"
        },
        "trusted": true,
        "colab": {
          "base_uri": "https://localhost:8080/"
        },
        "id": "VyCTylXr_n_H",
        "outputId": "0afca989-9e35-432b-df0e-f3d330ac8d1f"
      },
      "execution_count": 3,
      "outputs": [
        {
          "output_type": "execute_result",
          "data": {
            "text/plain": [
              "array([0., 0., 0., 0., 0., 0., 0., 0., 0., 0.])"
            ]
          },
          "metadata": {},
          "execution_count": 3
        }
      ]
    },
    {
      "cell_type": "code",
      "source": [
        "#5x5 array with all values 1\n",
        "np.ones((5,5))"
      ],
      "metadata": {
        "execution": {
          "iopub.status.busy": "2023-12-04T11:27:09.389525Z",
          "iopub.execute_input": "2023-12-04T11:27:09.39006Z",
          "iopub.status.idle": "2023-12-04T11:27:09.401664Z",
          "shell.execute_reply.started": "2023-12-04T11:27:09.38999Z",
          "shell.execute_reply": "2023-12-04T11:27:09.400435Z"
        },
        "trusted": true,
        "colab": {
          "base_uri": "https://localhost:8080/"
        },
        "id": "qe3tovHU_n_I",
        "outputId": "d38d28a5-8b15-464e-bf37-fae92e9cbf92"
      },
      "execution_count": 4,
      "outputs": [
        {
          "output_type": "execute_result",
          "data": {
            "text/plain": [
              "array([[1., 1., 1., 1., 1.],\n",
              "       [1., 1., 1., 1., 1.],\n",
              "       [1., 1., 1., 1., 1.],\n",
              "       [1., 1., 1., 1., 1.],\n",
              "       [1., 1., 1., 1., 1.]])"
            ]
          },
          "metadata": {},
          "execution_count": 4
        }
      ]
    },
    {
      "cell_type": "code",
      "source": [
        "#5x5 array of 0 with 1 on diagonal Identitymatrix\n",
        "np.eye(5)"
      ],
      "metadata": {
        "execution": {
          "iopub.status.busy": "2023-12-04T11:27:09.403397Z",
          "iopub.execute_input": "2023-12-04T11:27:09.403749Z",
          "iopub.status.idle": "2023-12-04T11:27:09.41486Z",
          "shell.execute_reply.started": "2023-12-04T11:27:09.403719Z",
          "shell.execute_reply": "2023-12-04T11:27:09.413872Z"
        },
        "trusted": true,
        "colab": {
          "base_uri": "https://localhost:8080/"
        },
        "id": "o-sP670D_n_I",
        "outputId": "32f93b90-d89c-4ad7-a512-5c79f2393ed6"
      },
      "execution_count": 5,
      "outputs": [
        {
          "output_type": "execute_result",
          "data": {
            "text/plain": [
              "array([[1., 0., 0., 0., 0.],\n",
              "       [0., 1., 0., 0., 0.],\n",
              "       [0., 0., 1., 0., 0.],\n",
              "       [0., 0., 0., 1., 0.],\n",
              "       [0., 0., 0., 0., 1.]])"
            ]
          },
          "metadata": {},
          "execution_count": 5
        }
      ]
    },
    {
      "cell_type": "code",
      "source": [
        "#create 2D array\n",
        "b = np.array([[1, 2, 3, 4, 5], [6, 7, 8, 9, 10]])\n",
        "print(b)"
      ],
      "metadata": {
        "execution": {
          "iopub.status.busy": "2023-12-04T11:27:09.416483Z",
          "iopub.execute_input": "2023-12-04T11:27:09.416983Z",
          "iopub.status.idle": "2023-12-04T11:27:09.426019Z",
          "shell.execute_reply.started": "2023-12-04T11:27:09.416935Z",
          "shell.execute_reply": "2023-12-04T11:27:09.424543Z"
        },
        "trusted": true,
        "colab": {
          "base_uri": "https://localhost:8080/"
        },
        "id": "tJBDLbzR_n_I",
        "outputId": "c15a0dbc-7e3a-4464-f91b-25b64ae26142"
      },
      "execution_count": 6,
      "outputs": [
        {
          "output_type": "stream",
          "name": "stdout",
          "text": [
            "[[ 1  2  3  4  5]\n",
            " [ 6  7  8  9 10]]\n"
          ]
        }
      ]
    },
    {
      "cell_type": "code",
      "source": [
        "# create 3D array\n",
        "c = np.array([[[1, 2, 3], [4,5,6]], [[7,8,9], [10,11,12]]])\n",
        "print(c)"
      ],
      "metadata": {
        "execution": {
          "iopub.status.busy": "2023-12-04T11:27:09.428367Z",
          "iopub.execute_input": "2023-12-04T11:27:09.428935Z",
          "iopub.status.idle": "2023-12-04T11:27:09.437728Z",
          "shell.execute_reply.started": "2023-12-04T11:27:09.428888Z",
          "shell.execute_reply": "2023-12-04T11:27:09.436681Z"
        },
        "trusted": true,
        "colab": {
          "base_uri": "https://localhost:8080/"
        },
        "id": "kmk_I1oV_n_J",
        "outputId": "61849001-f2f5-4e75-844f-ab351f1db5f7"
      },
      "execution_count": 7,
      "outputs": [
        {
          "output_type": "stream",
          "name": "stdout",
          "text": [
            "[[[ 1  2  3]\n",
            "  [ 4  5  6]]\n",
            "\n",
            " [[ 7  8  9]\n",
            "  [10 11 12]]]\n"
          ]
        }
      ]
    },
    {
      "cell_type": "code",
      "source": [
        "#here 1,15 is the range means give me 3 numbers having values between 1-15\n",
        "np.random.randint(1,15,3)"
      ],
      "metadata": {
        "execution": {
          "iopub.status.busy": "2023-12-04T11:27:09.439294Z",
          "iopub.execute_input": "2023-12-04T11:27:09.439622Z",
          "iopub.status.idle": "2023-12-04T11:27:09.451122Z",
          "shell.execute_reply.started": "2023-12-04T11:27:09.439594Z",
          "shell.execute_reply": "2023-12-04T11:27:09.449697Z"
        },
        "trusted": true,
        "colab": {
          "base_uri": "https://localhost:8080/"
        },
        "id": "CkMLCIhw_n_J",
        "outputId": "07fd6aa5-2951-471c-9c6e-298a9811eccc"
      },
      "execution_count": 8,
      "outputs": [
        {
          "output_type": "execute_result",
          "data": {
            "text/plain": [
              "array([12,  9, 12])"
            ]
          },
          "metadata": {},
          "execution_count": 8
        }
      ]
    },
    {
      "cell_type": "code",
      "source": [
        "#3x3 array with random ints between 0–9\n",
        "np.random.randint(10,size=(3,3))"
      ],
      "metadata": {
        "execution": {
          "iopub.status.busy": "2023-12-04T11:27:09.456077Z",
          "iopub.execute_input": "2023-12-04T11:27:09.456588Z",
          "iopub.status.idle": "2023-12-04T11:27:09.465018Z",
          "shell.execute_reply.started": "2023-12-04T11:27:09.456546Z",
          "shell.execute_reply": "2023-12-04T11:27:09.463923Z"
        },
        "trusted": true,
        "colab": {
          "base_uri": "https://localhost:8080/"
        },
        "id": "6qjlFLJm_n_K",
        "outputId": "88b5bd9b-d1b4-48fb-ead2-90de70c33dcb"
      },
      "execution_count": 9,
      "outputs": [
        {
          "output_type": "execute_result",
          "data": {
            "text/plain": [
              "array([[7, 4, 9],\n",
              "       [6, 6, 6],\n",
              "       [9, 3, 6]])"
            ]
          },
          "metadata": {},
          "execution_count": 9
        }
      ]
    },
    {
      "cell_type": "code",
      "source": [
        "# bool datatype\n",
        "np.array([1, 2, 3, 4, 5], dtype=bool)"
      ],
      "metadata": {
        "execution": {
          "iopub.status.busy": "2023-12-04T11:27:09.466507Z",
          "iopub.execute_input": "2023-12-04T11:27:09.466914Z",
          "iopub.status.idle": "2023-12-04T11:27:09.479156Z",
          "shell.execute_reply.started": "2023-12-04T11:27:09.466876Z",
          "shell.execute_reply": "2023-12-04T11:27:09.477783Z"
        },
        "trusted": true,
        "colab": {
          "base_uri": "https://localhost:8080/"
        },
        "id": "tx2ZxJpr_n_K",
        "outputId": "53b55d7b-0b73-415e-c642-724986c40efc"
      },
      "execution_count": 10,
      "outputs": [
        {
          "output_type": "execute_result",
          "data": {
            "text/plain": [
              "array([ True,  True,  True,  True,  True])"
            ]
          },
          "metadata": {},
          "execution_count": 10
        }
      ]
    },
    {
      "cell_type": "code",
      "source": [
        "#7x7 array of 0 with 1 on diagonal Identitymatrix\n",
        "np.eye(7)"
      ],
      "metadata": {
        "execution": {
          "iopub.status.busy": "2023-12-04T11:27:09.48102Z",
          "iopub.execute_input": "2023-12-04T11:27:09.481349Z",
          "iopub.status.idle": "2023-12-04T11:27:09.491337Z",
          "shell.execute_reply.started": "2023-12-04T11:27:09.48132Z",
          "shell.execute_reply": "2023-12-04T11:27:09.490121Z"
        },
        "trusted": true,
        "colab": {
          "base_uri": "https://localhost:8080/"
        },
        "id": "zu_mDTG7_n_L",
        "outputId": "9a840df8-1ccb-4f4f-d7ee-0237d0835271"
      },
      "execution_count": 11,
      "outputs": [
        {
          "output_type": "execute_result",
          "data": {
            "text/plain": [
              "array([[1., 0., 0., 0., 0., 0., 0.],\n",
              "       [0., 1., 0., 0., 0., 0., 0.],\n",
              "       [0., 0., 1., 0., 0., 0., 0.],\n",
              "       [0., 0., 0., 1., 0., 0., 0.],\n",
              "       [0., 0., 0., 0., 1., 0., 0.],\n",
              "       [0., 0., 0., 0., 0., 1., 0.],\n",
              "       [0., 0., 0., 0., 0., 0., 1.]])"
            ]
          },
          "metadata": {},
          "execution_count": 11
        }
      ]
    },
    {
      "cell_type": "code",
      "source": [
        "#Array of values from 0 to less than 15 with step 3\n",
        "np.arange(0,15,3)"
      ],
      "metadata": {
        "execution": {
          "iopub.status.busy": "2023-12-04T11:27:09.493117Z",
          "iopub.execute_input": "2023-12-04T11:27:09.493485Z",
          "iopub.status.idle": "2023-12-04T11:27:09.504229Z",
          "shell.execute_reply.started": "2023-12-04T11:27:09.493455Z",
          "shell.execute_reply": "2023-12-04T11:27:09.50311Z"
        },
        "trusted": true,
        "colab": {
          "base_uri": "https://localhost:8080/"
        },
        "id": "vux8o9CT_n_L",
        "outputId": "284d28fb-701e-4b36-ef0f-a618eaaba374"
      },
      "execution_count": 12,
      "outputs": [
        {
          "output_type": "execute_result",
          "data": {
            "text/plain": [
              "array([ 0,  3,  6,  9, 12])"
            ]
          },
          "metadata": {},
          "execution_count": 12
        }
      ]
    },
    {
      "cell_type": "code",
      "source": [
        "from numpy import *\n",
        "a = arange(12)\n",
        "a = a.reshape(3,2,2)\n",
        "print(a)"
      ],
      "metadata": {
        "execution": {
          "iopub.status.busy": "2023-12-04T11:27:09.505871Z",
          "iopub.execute_input": "2023-12-04T11:27:09.506258Z",
          "iopub.status.idle": "2023-12-04T11:27:09.517244Z",
          "shell.execute_reply.started": "2023-12-04T11:27:09.506226Z",
          "shell.execute_reply": "2023-12-04T11:27:09.516055Z"
        },
        "trusted": true,
        "colab": {
          "base_uri": "https://localhost:8080/"
        },
        "id": "jRJKwW4A_n_L",
        "outputId": "ccdbaff4-047f-4d82-c8bf-13586bdac9a8"
      },
      "execution_count": 13,
      "outputs": [
        {
          "output_type": "stream",
          "name": "stdout",
          "text": [
            "[[[ 0  1]\n",
            "  [ 2  3]]\n",
            "\n",
            " [[ 4  5]\n",
            "  [ 6  7]]\n",
            "\n",
            " [[ 8  9]\n",
            "  [10 11]]]\n"
          ]
        }
      ]
    },
    {
      "cell_type": "code",
      "source": [
        "#Transposes arr (rows become columns and vice versa)\n",
        "trans=np.array([(1,2,3,4),(5,6,7,8)])\n",
        "trans.T"
      ],
      "metadata": {
        "execution": {
          "iopub.status.busy": "2023-12-04T11:27:09.518932Z",
          "iopub.execute_input": "2023-12-04T11:27:09.519292Z",
          "iopub.status.idle": "2023-12-04T11:27:09.53108Z",
          "shell.execute_reply.started": "2023-12-04T11:27:09.519256Z",
          "shell.execute_reply": "2023-12-04T11:27:09.529906Z"
        },
        "trusted": true,
        "colab": {
          "base_uri": "https://localhost:8080/"
        },
        "id": "bSPrbHKf_n_L",
        "outputId": "0ce576d7-a78a-4ee8-b0ea-62b18a21d6fc"
      },
      "execution_count": 14,
      "outputs": [
        {
          "output_type": "execute_result",
          "data": {
            "text/plain": [
              "array([[1, 5],\n",
              "       [2, 6],\n",
              "       [3, 7],\n",
              "       [4, 8]])"
            ]
          },
          "metadata": {},
          "execution_count": 14
        }
      ]
    },
    {
      "cell_type": "code",
      "source": [
        "trans.reshape(4,2)"
      ],
      "metadata": {
        "execution": {
          "iopub.status.busy": "2023-12-04T11:27:09.532429Z",
          "iopub.execute_input": "2023-12-04T11:27:09.532902Z",
          "iopub.status.idle": "2023-12-04T11:27:09.544787Z",
          "shell.execute_reply.started": "2023-12-04T11:27:09.532859Z",
          "shell.execute_reply": "2023-12-04T11:27:09.543651Z"
        },
        "trusted": true,
        "colab": {
          "base_uri": "https://localhost:8080/"
        },
        "id": "Vn4bWlms_n_L",
        "outputId": "ae490da1-c6b5-4b57-9579-1ca87f44830b"
      },
      "execution_count": 15,
      "outputs": [
        {
          "output_type": "execute_result",
          "data": {
            "text/plain": [
              "array([[1, 2],\n",
              "       [3, 4],\n",
              "       [5, 6],\n",
              "       [7, 8]])"
            ]
          },
          "metadata": {},
          "execution_count": 15
        }
      ]
    },
    {
      "cell_type": "code",
      "source": [
        "#Changes arr shape to 6x6 and fills new values with 0\n",
        "trans.resize((6,6),refcheck=False)\n",
        "trans"
      ],
      "metadata": {
        "execution": {
          "iopub.status.busy": "2023-12-04T11:27:09.548491Z",
          "iopub.execute_input": "2023-12-04T11:27:09.548968Z",
          "iopub.status.idle": "2023-12-04T11:27:09.560427Z",
          "shell.execute_reply.started": "2023-12-04T11:27:09.548934Z",
          "shell.execute_reply": "2023-12-04T11:27:09.559182Z"
        },
        "trusted": true,
        "colab": {
          "base_uri": "https://localhost:8080/"
        },
        "id": "-zsjL4wM_n_M",
        "outputId": "4bf8964b-f1c4-4928-dc7f-5cadae7f19f4"
      },
      "execution_count": 16,
      "outputs": [
        {
          "output_type": "execute_result",
          "data": {
            "text/plain": [
              "array([[1, 2, 3, 4, 5, 6],\n",
              "       [7, 8, 0, 0, 0, 0],\n",
              "       [0, 0, 0, 0, 0, 0],\n",
              "       [0, 0, 0, 0, 0, 0],\n",
              "       [0, 0, 0, 0, 0, 0],\n",
              "       [0, 0, 0, 0, 0, 0]])"
            ]
          },
          "metadata": {},
          "execution_count": 16
        }
      ]
    },
    {
      "cell_type": "code",
      "source": [
        "#Returns number of elements in arr\n",
        "arr=np.array([1,2,3,4,6,7,9])\n",
        "arr.size"
      ],
      "metadata": {
        "execution": {
          "iopub.status.busy": "2023-12-04T11:27:09.561874Z",
          "iopub.execute_input": "2023-12-04T11:27:09.563369Z",
          "iopub.status.idle": "2023-12-04T11:27:09.573988Z",
          "shell.execute_reply.started": "2023-12-04T11:27:09.563322Z",
          "shell.execute_reply": "2023-12-04T11:27:09.572504Z"
        },
        "trusted": true,
        "colab": {
          "base_uri": "https://localhost:8080/"
        },
        "id": "IfDTM9YZ_n_M",
        "outputId": "e8fff8c3-416b-440c-a994-0bcfbeb38b74"
      },
      "execution_count": 17,
      "outputs": [
        {
          "output_type": "execute_result",
          "data": {
            "text/plain": [
              "7"
            ]
          },
          "metadata": {},
          "execution_count": 17
        }
      ]
    },
    {
      "cell_type": "code",
      "source": [
        "#Appends values to end of arr\n",
        "arr2=np.append(arr,[0,1,2,4,5])\n",
        "arr2"
      ],
      "metadata": {
        "execution": {
          "iopub.status.busy": "2023-12-04T11:27:09.575874Z",
          "iopub.execute_input": "2023-12-04T11:27:09.576621Z",
          "iopub.status.idle": "2023-12-04T11:27:09.585101Z",
          "shell.execute_reply.started": "2023-12-04T11:27:09.57651Z",
          "shell.execute_reply": "2023-12-04T11:27:09.584094Z"
        },
        "trusted": true,
        "colab": {
          "base_uri": "https://localhost:8080/"
        },
        "id": "a2o6OxWp_n_N",
        "outputId": "ea2ed770-ec2b-4516-9554-98ed1f6e3546"
      },
      "execution_count": 18,
      "outputs": [
        {
          "output_type": "execute_result",
          "data": {
            "text/plain": [
              "array([1, 2, 3, 4, 6, 7, 9, 0, 1, 2, 4, 5])"
            ]
          },
          "metadata": {},
          "execution_count": 18
        }
      ]
    },
    {
      "cell_type": "code",
      "source": [
        "#Inserts values into arr before index 2\n",
        "np.insert(arr2,2,4)"
      ],
      "metadata": {
        "execution": {
          "iopub.status.busy": "2023-12-04T11:27:09.586694Z",
          "iopub.execute_input": "2023-12-04T11:27:09.587894Z",
          "iopub.status.idle": "2023-12-04T11:27:09.597913Z",
          "shell.execute_reply.started": "2023-12-04T11:27:09.587854Z",
          "shell.execute_reply": "2023-12-04T11:27:09.596807Z"
        },
        "trusted": true,
        "colab": {
          "base_uri": "https://localhost:8080/"
        },
        "id": "HgkRe7nw_n_N",
        "outputId": "87c4480b-30d3-4adb-ed81-642102830d50"
      },
      "execution_count": 19,
      "outputs": [
        {
          "output_type": "execute_result",
          "data": {
            "text/plain": [
              "array([1, 2, 4, 3, 4, 6, 7, 9, 0, 1, 2, 4, 5])"
            ]
          },
          "metadata": {},
          "execution_count": 19
        }
      ]
    },
    {
      "cell_type": "code",
      "source": [
        "#Deletes row on index 4 of arr\n",
        "np.delete(trans,4)"
      ],
      "metadata": {
        "execution": {
          "iopub.status.busy": "2023-12-04T11:27:09.603232Z",
          "iopub.execute_input": "2023-12-04T11:27:09.604129Z",
          "iopub.status.idle": "2023-12-04T11:27:09.613258Z",
          "shell.execute_reply.started": "2023-12-04T11:27:09.604091Z",
          "shell.execute_reply": "2023-12-04T11:27:09.611917Z"
        },
        "trusted": true,
        "colab": {
          "base_uri": "https://localhost:8080/"
        },
        "id": "nIELfvcp_n_N",
        "outputId": "a172e8d2-c87a-4a2f-b5a7-4006c0d9b30f"
      },
      "execution_count": 20,
      "outputs": [
        {
          "output_type": "execute_result",
          "data": {
            "text/plain": [
              "array([1, 2, 3, 4, 6, 7, 8, 0, 0, 0, 0, 0, 0, 0, 0, 0, 0, 0, 0, 0, 0, 0,\n",
              "       0, 0, 0, 0, 0, 0, 0, 0, 0, 0, 0, 0, 0])"
            ]
          },
          "metadata": {},
          "execution_count": 20
        }
      ]
    },
    {
      "cell_type": "code",
      "source": [
        "#Deletes column on index 5 of arr\n",
        "np.delete(trans,5,axis=1)"
      ],
      "metadata": {
        "execution": {
          "iopub.status.busy": "2023-12-04T11:27:09.615126Z",
          "iopub.execute_input": "2023-12-04T11:27:09.615871Z",
          "iopub.status.idle": "2023-12-04T11:27:09.624749Z",
          "shell.execute_reply.started": "2023-12-04T11:27:09.615805Z",
          "shell.execute_reply": "2023-12-04T11:27:09.623545Z"
        },
        "trusted": true,
        "colab": {
          "base_uri": "https://localhost:8080/"
        },
        "id": "7f4SD7Gy_n_N",
        "outputId": "5c21df19-24f1-408c-b233-18b80f7cf130"
      },
      "execution_count": 21,
      "outputs": [
        {
          "output_type": "execute_result",
          "data": {
            "text/plain": [
              "array([[1, 2, 3, 4, 5],\n",
              "       [7, 8, 0, 0, 0],\n",
              "       [0, 0, 0, 0, 0],\n",
              "       [0, 0, 0, 0, 0],\n",
              "       [0, 0, 0, 0, 0],\n",
              "       [0, 0, 0, 0, 0]])"
            ]
          },
          "metadata": {},
          "execution_count": 21
        }
      ]
    },
    {
      "cell_type": "code",
      "source": [
        "abs(-1)"
      ],
      "metadata": {
        "execution": {
          "iopub.status.busy": "2023-12-04T11:27:09.626526Z",
          "iopub.execute_input": "2023-12-04T11:27:09.626998Z",
          "iopub.status.idle": "2023-12-04T11:27:09.63667Z",
          "shell.execute_reply.started": "2023-12-04T11:27:09.626955Z",
          "shell.execute_reply": "2023-12-04T11:27:09.635176Z"
        },
        "trusted": true,
        "colab": {
          "base_uri": "https://localhost:8080/"
        },
        "id": "2ZppMcje_n_N",
        "outputId": "1920e13c-c920-4697-ebc4-956b702f0822"
      },
      "execution_count": 22,
      "outputs": [
        {
          "output_type": "execute_result",
          "data": {
            "text/plain": [
              "1"
            ]
          },
          "metadata": {},
          "execution_count": 22
        }
      ]
    },
    {
      "cell_type": "code",
      "source": [
        "add.accumulate(array([1.,2.,3.,4.]))"
      ],
      "metadata": {
        "execution": {
          "iopub.status.busy": "2023-12-04T11:27:09.638778Z",
          "iopub.execute_input": "2023-12-04T11:27:09.639813Z",
          "iopub.status.idle": "2023-12-04T11:27:09.649444Z",
          "shell.execute_reply.started": "2023-12-04T11:27:09.639752Z",
          "shell.execute_reply": "2023-12-04T11:27:09.648057Z"
        },
        "trusted": true,
        "colab": {
          "base_uri": "https://localhost:8080/"
        },
        "id": "GksWLz4U_n_N",
        "outputId": "0e545421-9a15-430b-edd3-20ac97bcc0e8"
      },
      "execution_count": 23,
      "outputs": [
        {
          "output_type": "execute_result",
          "data": {
            "text/plain": [
              "array([ 1.,  3.,  6., 10.])"
            ]
          },
          "metadata": {},
          "execution_count": 23
        }
      ]
    },
    {
      "cell_type": "code",
      "source": [
        "multiply.accumulate(array([1.,2.,3.,4.]))"
      ],
      "metadata": {
        "execution": {
          "iopub.status.busy": "2023-12-04T11:27:09.651623Z",
          "iopub.execute_input": "2023-12-04T11:27:09.652694Z",
          "iopub.status.idle": "2023-12-04T11:27:09.662517Z",
          "shell.execute_reply.started": "2023-12-04T11:27:09.652638Z",
          "shell.execute_reply": "2023-12-04T11:27:09.661283Z"
        },
        "trusted": true,
        "colab": {
          "base_uri": "https://localhost:8080/"
        },
        "id": "fimcF3h__n_O",
        "outputId": "5ad73c47-17e2-4ee1-d510-e98f66565b9c"
      },
      "execution_count": 24,
      "outputs": [
        {
          "output_type": "execute_result",
          "data": {
            "text/plain": [
              "array([ 1.,  2.,  6., 24.])"
            ]
          },
          "metadata": {},
          "execution_count": 24
        }
      ]
    },
    {
      "cell_type": "code",
      "source": [
        "add.accumulate(array([[1,2,3],[4,5,6]]), axis = 0)"
      ],
      "metadata": {
        "execution": {
          "iopub.status.busy": "2023-12-04T11:27:09.664665Z",
          "iopub.execute_input": "2023-12-04T11:27:09.665638Z",
          "iopub.status.idle": "2023-12-04T11:27:09.67615Z",
          "shell.execute_reply.started": "2023-12-04T11:27:09.665595Z",
          "shell.execute_reply": "2023-12-04T11:27:09.675004Z"
        },
        "trusted": true,
        "colab": {
          "base_uri": "https://localhost:8080/"
        },
        "id": "QfsYnBak_n_O",
        "outputId": "49b62d7c-1b1f-422f-bb87-8359c1803b93"
      },
      "execution_count": 25,
      "outputs": [
        {
          "output_type": "execute_result",
          "data": {
            "text/plain": [
              "array([[1, 2, 3],\n",
              "       [5, 7, 9]])"
            ]
          },
          "metadata": {},
          "execution_count": 25
        }
      ]
    },
    {
      "cell_type": "code",
      "source": [
        "add.accumulate(array([[1,2,3],[4,5,6]]), axis = 1)"
      ],
      "metadata": {
        "execution": {
          "iopub.status.busy": "2023-12-04T11:27:09.677981Z",
          "iopub.execute_input": "2023-12-04T11:27:09.678673Z",
          "iopub.status.idle": "2023-12-04T11:27:09.688094Z",
          "shell.execute_reply.started": "2023-12-04T11:27:09.678633Z",
          "shell.execute_reply": "2023-12-04T11:27:09.687119Z"
        },
        "trusted": true,
        "colab": {
          "base_uri": "https://localhost:8080/"
        },
        "id": "BxaLlt9V_n_O",
        "outputId": "7d8fa0d6-a108-4ffc-b6b0-135c78368ecf"
      },
      "execution_count": 26,
      "outputs": [
        {
          "output_type": "execute_result",
          "data": {
            "text/plain": [
              "array([[ 1,  3,  6],\n",
              "       [ 4,  9, 15]])"
            ]
          },
          "metadata": {},
          "execution_count": 26
        }
      ]
    },
    {
      "cell_type": "code",
      "source": [
        "add(array([-1.2, 1.2]), array([1,3]))"
      ],
      "metadata": {
        "execution": {
          "iopub.status.busy": "2023-12-04T11:27:09.68961Z",
          "iopub.execute_input": "2023-12-04T11:27:09.690564Z",
          "iopub.status.idle": "2023-12-04T11:27:09.70071Z",
          "shell.execute_reply.started": "2023-12-04T11:27:09.69052Z",
          "shell.execute_reply": "2023-12-04T11:27:09.699815Z"
        },
        "trusted": true,
        "colab": {
          "base_uri": "https://localhost:8080/"
        },
        "id": "J5bSxNFq_n_O",
        "outputId": "be5e3a99-529c-487e-a91d-21c0417fde87"
      },
      "execution_count": 27,
      "outputs": [
        {
          "output_type": "execute_result",
          "data": {
            "text/plain": [
              "array([-0.2,  4.2])"
            ]
          },
          "metadata": {},
          "execution_count": 27
        }
      ]
    },
    {
      "cell_type": "code",
      "source": [
        "array([-1.2, 1.2]) + array([1,3])"
      ],
      "metadata": {
        "execution": {
          "iopub.status.busy": "2023-12-04T11:27:09.70556Z",
          "iopub.execute_input": "2023-12-04T11:27:09.706506Z",
          "iopub.status.idle": "2023-12-04T11:27:09.715183Z",
          "shell.execute_reply.started": "2023-12-04T11:27:09.706462Z",
          "shell.execute_reply": "2023-12-04T11:27:09.713894Z"
        },
        "trusted": true,
        "colab": {
          "base_uri": "https://localhost:8080/"
        },
        "id": "huZLuaUa_n_O",
        "outputId": "31329498-f182-4144-d7e3-34bdeffd0df7"
      },
      "execution_count": 28,
      "outputs": [
        {
          "output_type": "execute_result",
          "data": {
            "text/plain": [
              "array([-0.2,  4.2])"
            ]
          },
          "metadata": {},
          "execution_count": 28
        }
      ]
    },
    {
      "cell_type": "code",
      "source": [
        "a = array([True, False, True])\n",
        "a.all()"
      ],
      "metadata": {
        "execution": {
          "iopub.status.busy": "2023-12-04T11:27:09.716624Z",
          "iopub.execute_input": "2023-12-04T11:27:09.718097Z",
          "iopub.status.idle": "2023-12-04T11:27:09.726484Z",
          "shell.execute_reply.started": "2023-12-04T11:27:09.718053Z",
          "shell.execute_reply": "2023-12-04T11:27:09.724995Z"
        },
        "trusted": true,
        "colab": {
          "base_uri": "https://localhost:8080/"
        },
        "id": "W8VS4VpL_n_O",
        "outputId": "84a89aef-eab6-44f4-ad2b-f4902fd15482"
      },
      "execution_count": 29,
      "outputs": [
        {
          "output_type": "execute_result",
          "data": {
            "text/plain": [
              "False"
            ]
          },
          "metadata": {},
          "execution_count": 29
        }
      ]
    },
    {
      "cell_type": "code",
      "source": [
        "allclose(array([1e10,1e-7]), array([1.00001e10,1e-8]))"
      ],
      "metadata": {
        "execution": {
          "iopub.status.busy": "2023-12-04T11:27:09.728818Z",
          "iopub.execute_input": "2023-12-04T11:27:09.72931Z",
          "iopub.status.idle": "2023-12-04T11:27:09.739491Z",
          "shell.execute_reply.started": "2023-12-04T11:27:09.729267Z",
          "shell.execute_reply": "2023-12-04T11:27:09.738091Z"
        },
        "trusted": true,
        "colab": {
          "base_uri": "https://localhost:8080/"
        },
        "id": "WAkmrcdo_n_P",
        "outputId": "825b2782-16bc-4eea-f13e-5293e7377abc"
      },
      "execution_count": 30,
      "outputs": [
        {
          "output_type": "execute_result",
          "data": {
            "text/plain": [
              "False"
            ]
          },
          "metadata": {},
          "execution_count": 30
        }
      ]
    },
    {
      "cell_type": "code",
      "source": [
        "# in radians\n",
        "angle(1+1j)"
      ],
      "metadata": {
        "execution": {
          "iopub.status.busy": "2023-12-04T11:27:09.741152Z",
          "iopub.execute_input": "2023-12-04T11:27:09.741531Z",
          "iopub.status.idle": "2023-12-04T11:27:09.75422Z",
          "shell.execute_reply.started": "2023-12-04T11:27:09.741499Z",
          "shell.execute_reply": "2023-12-04T11:27:09.753362Z"
        },
        "trusted": true,
        "colab": {
          "base_uri": "https://localhost:8080/"
        },
        "id": "ws0FjfNZ_n_P",
        "outputId": "a65d6489-a3da-44ca-d055-6f8350b7f986"
      },
      "execution_count": 31,
      "outputs": [
        {
          "output_type": "execute_result",
          "data": {
            "text/plain": [
              "0.7853981633974483"
            ]
          },
          "metadata": {},
          "execution_count": 31
        }
      ]
    },
    {
      "cell_type": "code",
      "source": [
        "# in degrees\n",
        "angle(1+1j,deg=True)"
      ],
      "metadata": {
        "execution": {
          "iopub.status.busy": "2023-12-04T11:27:09.755558Z",
          "iopub.execute_input": "2023-12-04T11:27:09.756338Z",
          "iopub.status.idle": "2023-12-04T11:27:09.768022Z",
          "shell.execute_reply.started": "2023-12-04T11:27:09.756301Z",
          "shell.execute_reply": "2023-12-04T11:27:09.766749Z"
        },
        "trusted": true,
        "colab": {
          "base_uri": "https://localhost:8080/"
        },
        "id": "NZ9fuZhQ_n_P",
        "outputId": "3736597c-2340-4dfa-9641-8c9b66045c54"
      },
      "execution_count": 32,
      "outputs": [
        {
          "output_type": "execute_result",
          "data": {
            "text/plain": [
              "45.0"
            ]
          },
          "metadata": {},
          "execution_count": 32
        }
      ]
    },
    {
      "cell_type": "code",
      "source": [
        "# gives True if at least 1 element of a is True, otherwise False\n",
        "a = array([True, False, True])\n",
        "a.any()"
      ],
      "metadata": {
        "execution": {
          "iopub.status.busy": "2023-12-04T11:27:09.769295Z",
          "iopub.execute_input": "2023-12-04T11:27:09.770224Z",
          "iopub.status.idle": "2023-12-04T11:27:09.7797Z",
          "shell.execute_reply.started": "2023-12-04T11:27:09.770058Z",
          "shell.execute_reply": "2023-12-04T11:27:09.778857Z"
        },
        "trusted": true,
        "colab": {
          "base_uri": "https://localhost:8080/"
        },
        "id": "ZhL7auw0_n_P",
        "outputId": "6fef1263-a283-4479-c6b0-c0347f9d7735"
      },
      "execution_count": 33,
      "outputs": [
        {
          "output_type": "execute_result",
          "data": {
            "text/plain": [
              "True"
            ]
          },
          "metadata": {},
          "execution_count": 33
        }
      ]
    },
    {
      "cell_type": "code",
      "source": [
        "from numpy import *\n",
        "a = array([10,20,30,40])\n",
        "append(a,50)"
      ],
      "metadata": {
        "execution": {
          "iopub.status.busy": "2023-12-04T11:27:09.781032Z",
          "iopub.execute_input": "2023-12-04T11:27:09.782329Z",
          "iopub.status.idle": "2023-12-04T11:27:09.795177Z",
          "shell.execute_reply.started": "2023-12-04T11:27:09.782296Z",
          "shell.execute_reply": "2023-12-04T11:27:09.794061Z"
        },
        "trusted": true,
        "colab": {
          "base_uri": "https://localhost:8080/"
        },
        "id": "fbjHP99k_n_U",
        "outputId": "78b5e71d-2c66-4dbf-d8f9-99430b0514e6"
      },
      "execution_count": 34,
      "outputs": [
        {
          "output_type": "execute_result",
          "data": {
            "text/plain": [
              "array([10, 20, 30, 40, 50])"
            ]
          },
          "metadata": {},
          "execution_count": 34
        }
      ]
    },
    {
      "cell_type": "code",
      "source": [
        "array([10, 20, 30, 40, 50])\n",
        "append(a,[50,60])"
      ],
      "metadata": {
        "execution": {
          "iopub.status.busy": "2023-12-04T11:27:09.798782Z",
          "iopub.execute_input": "2023-12-04T11:27:09.799493Z",
          "iopub.status.idle": "2023-12-04T11:27:09.806621Z",
          "shell.execute_reply.started": "2023-12-04T11:27:09.799458Z",
          "shell.execute_reply": "2023-12-04T11:27:09.805436Z"
        },
        "trusted": true,
        "colab": {
          "base_uri": "https://localhost:8080/"
        },
        "id": "0cnBLTeJ_n_V",
        "outputId": "60a4191f-16ff-4793-d2f4-318df62eda44"
      },
      "execution_count": 35,
      "outputs": [
        {
          "output_type": "execute_result",
          "data": {
            "text/plain": [
              "array([10, 20, 30, 40, 50, 60])"
            ]
          },
          "metadata": {},
          "execution_count": 35
        }
      ]
    },
    {
      "cell_type": "code",
      "source": [
        "array([10, 20, 30, 40, 50])\n",
        "append(a,[59,60])"
      ],
      "metadata": {
        "execution": {
          "iopub.status.busy": "2023-12-04T11:27:09.808012Z",
          "iopub.execute_input": "2023-12-04T11:27:09.808408Z",
          "iopub.status.idle": "2023-12-04T11:27:09.820698Z",
          "shell.execute_reply.started": "2023-12-04T11:27:09.808378Z",
          "shell.execute_reply": "2023-12-04T11:27:09.819374Z"
        },
        "trusted": true,
        "colab": {
          "base_uri": "https://localhost:8080/"
        },
        "id": "BXHf9fID_n_V",
        "outputId": "843f0e7b-b2f7-4db8-ebbc-084f42b21215"
      },
      "execution_count": 36,
      "outputs": [
        {
          "output_type": "execute_result",
          "data": {
            "text/plain": [
              "array([10, 20, 30, 40, 59, 60])"
            ]
          },
          "metadata": {},
          "execution_count": 36
        }
      ]
    },
    {
      "cell_type": "code",
      "source": [
        "#View documentation for arr.tolist\n",
        "np.info(arr.tolist)"
      ],
      "metadata": {
        "execution": {
          "iopub.status.busy": "2023-12-04T11:27:09.821727Z",
          "iopub.execute_input": "2023-12-04T11:27:09.822049Z",
          "iopub.status.idle": "2023-12-04T11:27:09.834269Z",
          "shell.execute_reply.started": "2023-12-04T11:27:09.822022Z",
          "shell.execute_reply": "2023-12-04T11:27:09.832899Z"
        },
        "trusted": true,
        "colab": {
          "base_uri": "https://localhost:8080/"
        },
        "id": "pzm1GTo__n_V",
        "outputId": "a361cc88-0f19-4bac-987f-f2766eaf40c0"
      },
      "execution_count": 37,
      "outputs": [
        {
          "output_type": "stream",
          "name": "stdout",
          "text": [
            "a.tolist()\n",
            "\n",
            "Return the array as an ``a.ndim``-levels deep nested list of Python scalars.\n",
            "\n",
            "Return a copy of the array data as a (nested) Python list.\n",
            "Data items are converted to the nearest compatible builtin Python type, via\n",
            "the `~numpy.ndarray.item` function.\n",
            "\n",
            "If ``a.ndim`` is 0, then since the depth of the nested list is 0, it will\n",
            "not be a list at all, but a simple Python scalar.\n",
            "\n",
            "Parameters\n",
            "----------\n",
            "none\n",
            "\n",
            "Returns\n",
            "-------\n",
            "y : object, or list of object, or list of list of object, or ...\n",
            "    The possibly nested list of array elements.\n",
            "\n",
            "Notes\n",
            "-----\n",
            "The array may be recreated via ``a = np.array(a.tolist())``, although this\n",
            "may sometimes lose precision.\n",
            "\n",
            "Examples\n",
            "--------\n",
            "For a 1D array, ``a.tolist()`` is almost the same as ``list(a)``,\n",
            "except that ``tolist`` changes numpy scalars to Python scalars:\n",
            "\n",
            ">>> a = np.uint32([1, 2])\n",
            ">>> a_list = list(a)\n",
            ">>> a_list\n",
            "[1, 2]\n",
            ">>> type(a_list[0])\n",
            "<class 'numpy.uint32'>\n",
            ">>> a_tolist = a.tolist()\n",
            ">>> a_tolist\n",
            "[1, 2]\n",
            ">>> type(a_tolist[0])\n",
            "<class 'int'>\n",
            "\n",
            "Additionally, for a 2D array, ``tolist`` applies recursively:\n",
            "\n",
            ">>> a = np.array([[1, 2], [3, 4]])\n",
            ">>> list(a)\n",
            "[array([1, 2]), array([3, 4])]\n",
            ">>> a.tolist()\n",
            "[[1, 2], [3, 4]]\n",
            "\n",
            "The base case for this recursion is a 0D array:\n",
            "\n",
            ">>> a = np.array(1)\n",
            ">>> list(a)\n",
            "Traceback (most recent call last):\n",
            "  ...\n",
            "TypeError: iteration over a 0-d array\n",
            ">>> a.tolist()\n",
            "1\n"
          ]
        }
      ]
    },
    {
      "cell_type": "code",
      "source": [
        "from numpy import *\n",
        "def myfunc(a): # function works on a 1d arrays, takes the average of the 1st an last element\n",
        "    return (a[0]+a[-1])/2\n",
        "b = array([[1,2,3],[4,5,6],[7,8,9]])\n",
        "apply_along_axis(myfunc,0,b)"
      ],
      "metadata": {
        "execution": {
          "iopub.status.busy": "2023-12-04T11:27:09.838757Z",
          "iopub.execute_input": "2023-12-04T11:27:09.839254Z",
          "iopub.status.idle": "2023-12-04T11:27:09.851649Z",
          "shell.execute_reply.started": "2023-12-04T11:27:09.839211Z",
          "shell.execute_reply": "2023-12-04T11:27:09.850398Z"
        },
        "trusted": true,
        "colab": {
          "base_uri": "https://localhost:8080/"
        },
        "id": "6WVMFQIZ_n_V",
        "outputId": "7d4e3b6e-a4f7-4dbf-d32e-ee67b387d294"
      },
      "execution_count": 38,
      "outputs": [
        {
          "output_type": "execute_result",
          "data": {
            "text/plain": [
              "array([4., 5., 6.])"
            ]
          },
          "metadata": {},
          "execution_count": 38
        }
      ]
    },
    {
      "cell_type": "code",
      "source": [
        "from numpy import *\n",
        "a = arange(24).reshape(2,3,4) # a has 3 axes: 0,1 and 2\n",
        "a"
      ],
      "metadata": {
        "execution": {
          "iopub.status.busy": "2023-12-04T11:27:09.85301Z",
          "iopub.execute_input": "2023-12-04T11:27:09.853791Z",
          "iopub.status.idle": "2023-12-04T11:27:09.863058Z",
          "shell.execute_reply.started": "2023-12-04T11:27:09.853757Z",
          "shell.execute_reply": "2023-12-04T11:27:09.861687Z"
        },
        "trusted": true,
        "colab": {
          "base_uri": "https://localhost:8080/"
        },
        "id": "nRcXEraA_n_V",
        "outputId": "c62c7458-f8a8-49b3-a252-9b8666b5f157"
      },
      "execution_count": 39,
      "outputs": [
        {
          "output_type": "execute_result",
          "data": {
            "text/plain": [
              "array([[[ 0,  1,  2,  3],\n",
              "        [ 4,  5,  6,  7],\n",
              "        [ 8,  9, 10, 11]],\n",
              "\n",
              "       [[12, 13, 14, 15],\n",
              "        [16, 17, 18, 19],\n",
              "        [20, 21, 22, 23]]])"
            ]
          },
          "metadata": {},
          "execution_count": 39
        }
      ]
    },
    {
      "cell_type": "code",
      "source": [
        "# sum over all axes except axis=1, result has same shape as original\n",
        "apply_over_axes(sum, a, [0,2])"
      ],
      "metadata": {
        "execution": {
          "iopub.status.busy": "2023-12-04T11:27:09.864189Z",
          "iopub.execute_input": "2023-12-04T11:27:09.86454Z",
          "iopub.status.idle": "2023-12-04T11:27:09.87529Z",
          "shell.execute_reply.started": "2023-12-04T11:27:09.864509Z",
          "shell.execute_reply": "2023-12-04T11:27:09.873782Z"
        },
        "trusted": true,
        "colab": {
          "base_uri": "https://localhost:8080/"
        },
        "id": "OyD_vTYc_n_W",
        "outputId": "6bf9131c-c6a8-4120-d65b-2efc368aaaef"
      },
      "execution_count": 40,
      "outputs": [
        {
          "output_type": "execute_result",
          "data": {
            "text/plain": [
              "array([[[ 60],\n",
              "        [ 92],\n",
              "        [124]]])"
            ]
          },
          "metadata": {},
          "execution_count": 40
        }
      ]
    },
    {
      "cell_type": "code",
      "source": [
        "from numpy import *\n",
        "arange(5)"
      ],
      "metadata": {
        "execution": {
          "iopub.status.busy": "2023-12-04T11:27:09.877325Z",
          "iopub.execute_input": "2023-12-04T11:27:09.87772Z",
          "iopub.status.idle": "2023-12-04T11:27:09.888696Z",
          "shell.execute_reply.started": "2023-12-04T11:27:09.877688Z",
          "shell.execute_reply": "2023-12-04T11:27:09.886913Z"
        },
        "trusted": true,
        "colab": {
          "base_uri": "https://localhost:8080/"
        },
        "id": "qzG8hYPJ_n_W",
        "outputId": "2619846b-3618-46b0-94a7-b88d9dd531f3"
      },
      "execution_count": 41,
      "outputs": [
        {
          "output_type": "execute_result",
          "data": {
            "text/plain": [
              "array([0, 1, 2, 3, 4])"
            ]
          },
          "metadata": {},
          "execution_count": 41
        }
      ]
    },
    {
      "cell_type": "code",
      "source": [
        "arange(5.0)"
      ],
      "metadata": {
        "execution": {
          "iopub.status.busy": "2023-12-04T11:27:09.89055Z",
          "iopub.execute_input": "2023-12-04T11:27:09.890953Z",
          "iopub.status.idle": "2023-12-04T11:27:09.899962Z",
          "shell.execute_reply.started": "2023-12-04T11:27:09.890921Z",
          "shell.execute_reply": "2023-12-04T11:27:09.898559Z"
        },
        "trusted": true,
        "colab": {
          "base_uri": "https://localhost:8080/"
        },
        "id": "eZPXW8u4_n_W",
        "outputId": "7c286c2c-90e3-4a85-fbba-1949ba5fdd7f"
      },
      "execution_count": 42,
      "outputs": [
        {
          "output_type": "execute_result",
          "data": {
            "text/plain": [
              "array([0., 1., 2., 3., 4.])"
            ]
          },
          "metadata": {},
          "execution_count": 42
        }
      ]
    },
    {
      "cell_type": "code",
      "source": [
        "from numpy import *\n",
        "arccos(array([0, 1]))"
      ],
      "metadata": {
        "execution": {
          "iopub.status.busy": "2023-12-04T11:27:09.901563Z",
          "iopub.execute_input": "2023-12-04T11:27:09.901976Z",
          "iopub.status.idle": "2023-12-04T11:27:09.914227Z",
          "shell.execute_reply.started": "2023-12-04T11:27:09.901943Z",
          "shell.execute_reply": "2023-12-04T11:27:09.91279Z"
        },
        "trusted": true,
        "colab": {
          "base_uri": "https://localhost:8080/"
        },
        "id": "oJxyYhpq_n_W",
        "outputId": "37de0fef-b5d5-48c9-ff9b-60de94f2bd51"
      },
      "execution_count": 43,
      "outputs": [
        {
          "output_type": "execute_result",
          "data": {
            "text/plain": [
              "array([1.57079633, 0.        ])"
            ]
          },
          "metadata": {},
          "execution_count": 43
        }
      ]
    },
    {
      "cell_type": "code",
      "source": [
        "arccosh(array([e, 10.0]))"
      ],
      "metadata": {
        "execution": {
          "iopub.status.busy": "2023-12-04T11:27:09.916692Z",
          "iopub.execute_input": "2023-12-04T11:27:09.917235Z",
          "iopub.status.idle": "2023-12-04T11:27:09.928087Z",
          "shell.execute_reply.started": "2023-12-04T11:27:09.917199Z",
          "shell.execute_reply": "2023-12-04T11:27:09.925932Z"
        },
        "trusted": true,
        "colab": {
          "base_uri": "https://localhost:8080/"
        },
        "id": "FuCujndM_n_W",
        "outputId": "6bfbb20f-542c-4e21-96bf-3b753ddd2d03"
      },
      "execution_count": 44,
      "outputs": [
        {
          "output_type": "execute_result",
          "data": {
            "text/plain": [
              "array([1.65745445, 2.99322285])"
            ]
          },
          "metadata": {},
          "execution_count": 44
        }
      ]
    },
    {
      "cell_type": "code",
      "source": [
        "arcsin(array([0, 1]))"
      ],
      "metadata": {
        "execution": {
          "iopub.status.busy": "2023-12-04T11:27:09.934926Z",
          "iopub.execute_input": "2023-12-04T11:27:09.935874Z",
          "iopub.status.idle": "2023-12-04T11:27:09.945205Z",
          "shell.execute_reply.started": "2023-12-04T11:27:09.935767Z",
          "shell.execute_reply": "2023-12-04T11:27:09.943927Z"
        },
        "trusted": true,
        "id": "02h8qY25_n_W"
      },
      "execution_count": null,
      "outputs": []
    },
    {
      "cell_type": "code",
      "source": [
        "arcsinh(array([e, 10.0]))"
      ],
      "metadata": {
        "execution": {
          "iopub.status.busy": "2023-12-04T11:27:09.947115Z",
          "iopub.execute_input": "2023-12-04T11:27:09.947885Z",
          "iopub.status.idle": "2023-12-04T11:27:09.957354Z",
          "shell.execute_reply.started": "2023-12-04T11:27:09.947813Z",
          "shell.execute_reply": "2023-12-04T11:27:09.955993Z"
        },
        "trusted": true,
        "id": "i5-yfr4s_n_X"
      },
      "execution_count": null,
      "outputs": []
    },
    {
      "cell_type": "code",
      "source": [
        "arctan(array([0, 1]))"
      ],
      "metadata": {
        "execution": {
          "iopub.status.busy": "2023-12-04T11:27:09.959762Z",
          "iopub.execute_input": "2023-12-04T11:27:09.960261Z",
          "iopub.status.idle": "2023-12-04T11:27:09.970216Z",
          "shell.execute_reply.started": "2023-12-04T11:27:09.960219Z",
          "shell.execute_reply": "2023-12-04T11:27:09.969059Z"
        },
        "trusted": true,
        "id": "75GQ-Kyv_n_X"
      },
      "execution_count": null,
      "outputs": []
    },
    {
      "cell_type": "code",
      "source": [
        "arctan2(array([0, 1]), array([1, 0]))"
      ],
      "metadata": {
        "execution": {
          "iopub.status.busy": "2023-12-04T11:27:09.972924Z",
          "iopub.execute_input": "2023-12-04T11:27:09.973392Z",
          "iopub.status.idle": "2023-12-04T11:27:09.983622Z",
          "shell.execute_reply.started": "2023-12-04T11:27:09.973357Z",
          "shell.execute_reply": "2023-12-04T11:27:09.982257Z"
        },
        "trusted": true,
        "id": "heTOVbAG_n_X"
      },
      "execution_count": null,
      "outputs": []
    },
    {
      "cell_type": "code",
      "source": [
        "arctanh(array([0, -0.5]))"
      ],
      "metadata": {
        "execution": {
          "iopub.status.busy": "2023-12-04T11:27:09.985127Z",
          "iopub.execute_input": "2023-12-04T11:27:09.98561Z",
          "iopub.status.idle": "2023-12-04T11:27:09.997362Z",
          "shell.execute_reply.started": "2023-12-04T11:27:09.985566Z",
          "shell.execute_reply": "2023-12-04T11:27:09.995891Z"
        },
        "trusted": true,
        "id": "O7hrly-x_n_X"
      },
      "execution_count": null,
      "outputs": []
    },
    {
      "cell_type": "code",
      "source": [
        "from numpy import *\n",
        "a = array([10,20,30])\n",
        "maxindex = a.argmax()\n",
        "a[maxindex]"
      ],
      "metadata": {
        "execution": {
          "iopub.status.busy": "2023-12-04T11:27:09.998804Z",
          "iopub.execute_input": "2023-12-04T11:27:09.999293Z",
          "iopub.status.idle": "2023-12-04T11:27:10.014641Z",
          "shell.execute_reply.started": "2023-12-04T11:27:09.999252Z",
          "shell.execute_reply": "2023-12-04T11:27:10.013427Z"
        },
        "trusted": true,
        "colab": {
          "base_uri": "https://localhost:8080/"
        },
        "id": "RuRblMz7_n_X",
        "outputId": "e5d67aa0-640c-4876-9cc1-001a5c7413b0"
      },
      "execution_count": 45,
      "outputs": [
        {
          "output_type": "execute_result",
          "data": {
            "text/plain": [
              "30"
            ]
          },
          "metadata": {},
          "execution_count": 45
        }
      ]
    },
    {
      "cell_type": "code",
      "source": [
        "a = array([[10,50,30],[60,20,40]])\n",
        "maxindex = a.argmax()\n",
        "maxindex"
      ],
      "metadata": {
        "execution": {
          "iopub.status.busy": "2023-12-04T11:27:10.01689Z",
          "iopub.execute_input": "2023-12-04T11:27:10.017337Z",
          "iopub.status.idle": "2023-12-04T11:27:10.026415Z",
          "shell.execute_reply.started": "2023-12-04T11:27:10.017303Z",
          "shell.execute_reply": "2023-12-04T11:27:10.025207Z"
        },
        "trusted": true,
        "colab": {
          "base_uri": "https://localhost:8080/"
        },
        "id": "5ktyJog3_n_Y",
        "outputId": "16ac3255-b9ee-4610-afa2-06d1ba8bd5e5"
      },
      "execution_count": 46,
      "outputs": [
        {
          "output_type": "execute_result",
          "data": {
            "text/plain": [
              "3"
            ]
          },
          "metadata": {},
          "execution_count": 46
        }
      ]
    },
    {
      "cell_type": "code",
      "source": [
        "a.ravel()[maxindex]"
      ],
      "metadata": {
        "execution": {
          "iopub.status.busy": "2023-12-04T11:27:10.028193Z",
          "iopub.execute_input": "2023-12-04T11:27:10.028733Z",
          "iopub.status.idle": "2023-12-04T11:27:10.03591Z",
          "shell.execute_reply.started": "2023-12-04T11:27:10.028699Z",
          "shell.execute_reply": "2023-12-04T11:27:10.034953Z"
        },
        "trusted": true,
        "colab": {
          "base_uri": "https://localhost:8080/"
        },
        "id": "CzPD5Kra_n_Y",
        "outputId": "176868a4-2990-4a33-b3a0-3c2a00dd935e"
      },
      "execution_count": 47,
      "outputs": [
        {
          "output_type": "execute_result",
          "data": {
            "text/plain": [
              "60"
            ]
          },
          "metadata": {},
          "execution_count": 47
        }
      ]
    },
    {
      "cell_type": "code",
      "source": [
        "# for each column: the row index of the maximum value\n",
        "a.argmax(axis=0)"
      ],
      "metadata": {
        "execution": {
          "iopub.status.busy": "2023-12-04T11:27:10.03737Z",
          "iopub.execute_input": "2023-12-04T11:27:10.038197Z",
          "iopub.status.idle": "2023-12-04T11:27:10.048009Z",
          "shell.execute_reply.started": "2023-12-04T11:27:10.03811Z",
          "shell.execute_reply": "2023-12-04T11:27:10.047048Z"
        },
        "trusted": true,
        "colab": {
          "base_uri": "https://localhost:8080/"
        },
        "id": "N2_kJ9bt_n_Y",
        "outputId": "bafdc9b5-5ce7-49fe-844a-bdfd9482ee5f"
      },
      "execution_count": 48,
      "outputs": [
        {
          "output_type": "execute_result",
          "data": {
            "text/plain": [
              "array([1, 0, 1])"
            ]
          },
          "metadata": {},
          "execution_count": 48
        }
      ]
    },
    {
      "cell_type": "code",
      "source": [
        "# for each row: the column index of the maximum value\n",
        "a.argmax(axis=1)"
      ],
      "metadata": {
        "execution": {
          "iopub.status.busy": "2023-12-04T11:27:10.049477Z",
          "iopub.execute_input": "2023-12-04T11:27:10.049904Z",
          "iopub.status.idle": "2023-12-04T11:27:10.058565Z",
          "shell.execute_reply.started": "2023-12-04T11:27:10.049867Z",
          "shell.execute_reply": "2023-12-04T11:27:10.057144Z"
        },
        "trusted": true,
        "colab": {
          "base_uri": "https://localhost:8080/"
        },
        "id": "9vf1eDve_n_Y",
        "outputId": "3f5f15fd-9620-487d-f0e3-cfc22e10df6f"
      },
      "execution_count": 49,
      "outputs": [
        {
          "output_type": "execute_result",
          "data": {
            "text/plain": [
              "array([1, 0])"
            ]
          },
          "metadata": {},
          "execution_count": 49
        }
      ]
    },
    {
      "cell_type": "code",
      "source": [
        "# also exists, slower, default is axis=-1\n",
        "argmin(a)"
      ],
      "metadata": {
        "execution": {
          "iopub.status.busy": "2023-12-04T11:27:10.063579Z",
          "iopub.execute_input": "2023-12-04T11:27:10.06404Z",
          "iopub.status.idle": "2023-12-04T11:27:10.072739Z",
          "shell.execute_reply.started": "2023-12-04T11:27:10.064Z",
          "shell.execute_reply": "2023-12-04T11:27:10.071553Z"
        },
        "trusted": true,
        "colab": {
          "base_uri": "https://localhost:8080/"
        },
        "id": "eWN4cxUe_n_Z",
        "outputId": "17b0d8a2-680c-43d9-98f3-43e0ee2854b7"
      },
      "execution_count": 50,
      "outputs": [
        {
          "output_type": "execute_result",
          "data": {
            "text/plain": [
              "0"
            ]
          },
          "metadata": {},
          "execution_count": 50
        }
      ]
    },
    {
      "cell_type": "code",
      "source": [
        "from numpy import *\n",
        "a = array([2,0,8,4,1])\n",
        "a"
      ],
      "metadata": {
        "execution": {
          "iopub.status.busy": "2023-12-04T11:27:10.07435Z",
          "iopub.execute_input": "2023-12-04T11:27:10.075928Z",
          "iopub.status.idle": "2023-12-04T11:27:10.08856Z",
          "shell.execute_reply.started": "2023-12-04T11:27:10.075862Z",
          "shell.execute_reply": "2023-12-04T11:27:10.087194Z"
        },
        "trusted": true,
        "colab": {
          "base_uri": "https://localhost:8080/"
        },
        "id": "Rvq5ezFI_n_Z",
        "outputId": "ae680daf-0a75-45bc-f342-8775eddb0be6"
      },
      "execution_count": 51,
      "outputs": [
        {
          "output_type": "execute_result",
          "data": {
            "text/plain": [
              "array([2, 0, 8, 4, 1])"
            ]
          },
          "metadata": {},
          "execution_count": 51
        }
      ]
    },
    {
      "cell_type": "code",
      "source": [
        "# indices of sorted array using quicksort (default)\n",
        "ind = a.argsort()\n",
        "ind"
      ],
      "metadata": {
        "execution": {
          "iopub.status.busy": "2023-12-04T11:27:10.090076Z",
          "iopub.execute_input": "2023-12-04T11:27:10.090457Z",
          "iopub.status.idle": "2023-12-04T11:27:10.104028Z",
          "shell.execute_reply.started": "2023-12-04T11:27:10.090424Z",
          "shell.execute_reply": "2023-12-04T11:27:10.102641Z"
        },
        "trusted": true,
        "id": "OOsTchNP_n_Z"
      },
      "execution_count": null,
      "outputs": []
    },
    {
      "cell_type": "code",
      "source": [
        "# same effect as a.sort()\n",
        "a[ind]"
      ],
      "metadata": {
        "execution": {
          "iopub.status.busy": "2023-12-04T11:27:10.105667Z",
          "iopub.execute_input": "2023-12-04T11:27:10.106042Z",
          "iopub.status.idle": "2023-12-04T11:27:10.11449Z",
          "shell.execute_reply.started": "2023-12-04T11:27:10.106012Z",
          "shell.execute_reply": "2023-12-04T11:27:10.113297Z"
        },
        "trusted": true,
        "id": "zSuvLrVw_n_a"
      },
      "execution_count": null,
      "outputs": []
    },
    {
      "cell_type": "code",
      "source": [
        "ind = a.argsort(kind='merge') # algorithm options are 'quicksort', 'mergesort' and 'heapsort'\n",
        "a = array([[8,4,1],[2,0,9]])\n",
        "ind = a.argsort(axis=0) # sorts on columns. NOT the same as a.sort(axis=1)\n",
        "ind"
      ],
      "metadata": {
        "execution": {
          "iopub.status.busy": "2023-12-04T11:27:10.116334Z",
          "iopub.execute_input": "2023-12-04T11:27:10.116698Z",
          "iopub.status.idle": "2023-12-04T11:27:10.130134Z",
          "shell.execute_reply.started": "2023-12-04T11:27:10.116668Z",
          "shell.execute_reply": "2023-12-04T11:27:10.128885Z"
        },
        "trusted": true,
        "id": "vE_VbYNd_n_a"
      },
      "execution_count": null,
      "outputs": []
    },
    {
      "cell_type": "code",
      "source": [
        "from numpy import *\n",
        "abs(-1)"
      ],
      "metadata": {
        "execution": {
          "iopub.status.busy": "2023-12-04T11:27:10.133781Z",
          "iopub.execute_input": "2023-12-04T11:27:10.13517Z",
          "iopub.status.idle": "2023-12-04T11:27:10.144029Z",
          "shell.execute_reply.started": "2023-12-04T11:27:10.135117Z",
          "shell.execute_reply": "2023-12-04T11:27:10.142705Z"
        },
        "trusted": true,
        "id": "GODvC4eg_n_b"
      },
      "execution_count": null,
      "outputs": []
    },
    {
      "cell_type": "code",
      "source": [
        "abs(array([-1.2, 1.2]))"
      ],
      "metadata": {
        "execution": {
          "iopub.status.busy": "2023-12-04T11:27:10.146092Z",
          "iopub.execute_input": "2023-12-04T11:27:10.146463Z",
          "iopub.status.idle": "2023-12-04T11:27:10.156228Z",
          "shell.execute_reply.started": "2023-12-04T11:27:10.146432Z",
          "shell.execute_reply": "2023-12-04T11:27:10.154914Z"
        },
        "trusted": true,
        "id": "Uq44bU8a_n_b"
      },
      "execution_count": null,
      "outputs": []
    },
    {
      "cell_type": "code",
      "source": [
        "abs(1.2+1j)"
      ],
      "metadata": {
        "execution": {
          "iopub.status.busy": "2023-12-04T11:27:10.15747Z",
          "iopub.execute_input": "2023-12-04T11:27:10.157919Z",
          "iopub.status.idle": "2023-12-04T11:27:10.170202Z",
          "shell.execute_reply.started": "2023-12-04T11:27:10.157876Z",
          "shell.execute_reply": "2023-12-04T11:27:10.169144Z"
        },
        "trusted": true,
        "id": "lI0B1oiO_n_b"
      },
      "execution_count": null,
      "outputs": []
    },
    {
      "cell_type": "code",
      "source": [
        "# like reduce() but also gives intermediate results\n",
        "from numpy import *\n",
        "add.accumulate(array([1.,2.,3.,4.]))"
      ],
      "metadata": {
        "execution": {
          "iopub.status.busy": "2023-12-04T11:27:10.171281Z",
          "iopub.execute_input": "2023-12-04T11:27:10.171631Z",
          "iopub.status.idle": "2023-12-04T11:27:10.183535Z",
          "shell.execute_reply.started": "2023-12-04T11:27:10.171604Z",
          "shell.execute_reply": "2023-12-04T11:27:10.182694Z"
        },
        "trusted": true,
        "id": "McKxClbf_n_c"
      },
      "execution_count": null,
      "outputs": []
    },
    {
      "cell_type": "code",
      "source": [
        "# works also with other operands\n",
        "multiply.accumulate(array([1.,2.,3.,4.]))"
      ],
      "metadata": {
        "execution": {
          "iopub.status.busy": "2023-12-04T11:27:10.184583Z",
          "iopub.execute_input": "2023-12-04T11:27:10.184953Z",
          "iopub.status.idle": "2023-12-04T11:27:10.196472Z",
          "shell.execute_reply.started": "2023-12-04T11:27:10.184922Z",
          "shell.execute_reply": "2023-12-04T11:27:10.195108Z"
        },
        "trusted": true,
        "id": "tclKNCdK_n_d"
      },
      "execution_count": null,
      "outputs": []
    },
    {
      "cell_type": "code",
      "source": [
        "#Array of 5 evenly divided values from 0 to 150\n",
        "np.linspace(0,150,5)"
      ],
      "metadata": {
        "execution": {
          "iopub.status.busy": "2023-12-04T11:27:10.198512Z",
          "iopub.execute_input": "2023-12-04T11:27:10.198926Z",
          "iopub.status.idle": "2023-12-04T11:27:10.214519Z",
          "shell.execute_reply.started": "2023-12-04T11:27:10.198893Z",
          "shell.execute_reply": "2023-12-04T11:27:10.213072Z"
        },
        "trusted": true,
        "id": "NMTbxKFZ_n_d"
      },
      "execution_count": null,
      "outputs": []
    },
    {
      "cell_type": "code",
      "source": [
        "#Returns number of elements in arr\n",
        "arr=np.array([1,2,3,4,6,7,9])\n",
        "arr.size"
      ],
      "metadata": {
        "execution": {
          "iopub.status.busy": "2023-12-04T11:27:10.216519Z",
          "iopub.execute_input": "2023-12-04T11:27:10.217001Z",
          "iopub.status.idle": "2023-12-04T11:27:10.226622Z",
          "shell.execute_reply.started": "2023-12-04T11:27:10.216955Z",
          "shell.execute_reply": "2023-12-04T11:27:10.225451Z"
        },
        "trusted": true,
        "id": "M76qg8VM_n_d"
      },
      "execution_count": null,
      "outputs": []
    },
    {
      "cell_type": "code",
      "source": [
        "#Returns dimensions of arr (rows,columns)\n",
        "arr.shape"
      ],
      "metadata": {
        "execution": {
          "iopub.status.busy": "2023-12-04T11:27:10.22857Z",
          "iopub.execute_input": "2023-12-04T11:27:10.229034Z",
          "iopub.status.idle": "2023-12-04T11:27:10.238511Z",
          "shell.execute_reply.started": "2023-12-04T11:27:10.228992Z",
          "shell.execute_reply": "2023-12-04T11:27:10.237544Z"
        },
        "trusted": true,
        "colab": {
          "base_uri": "https://localhost:8080/"
        },
        "id": "EcVdsfjM_n_e",
        "outputId": "8009337f-e0ed-4e88-840f-a29de225d0b7"
      },
      "execution_count": 52,
      "outputs": [
        {
          "output_type": "execute_result",
          "data": {
            "text/plain": [
              "(7,)"
            ]
          },
          "metadata": {},
          "execution_count": 52
        }
      ]
    },
    {
      "cell_type": "code",
      "source": [
        "#Convert arr to a Python list\n",
        "arr.tolist()"
      ],
      "metadata": {
        "execution": {
          "iopub.status.busy": "2023-12-04T11:27:10.24372Z",
          "iopub.execute_input": "2023-12-04T11:27:10.24473Z",
          "iopub.status.idle": "2023-12-04T11:27:10.254446Z",
          "shell.execute_reply.started": "2023-12-04T11:27:10.244692Z",
          "shell.execute_reply": "2023-12-04T11:27:10.253355Z"
        },
        "trusted": true,
        "id": "JJjsL-_D_n_e"
      },
      "execution_count": null,
      "outputs": []
    },
    {
      "cell_type": "code",
      "source": [
        "#Copies arr to new memory\n",
        "np.copy(arr)"
      ],
      "metadata": {
        "execution": {
          "iopub.status.busy": "2023-12-04T11:27:10.25607Z",
          "iopub.execute_input": "2023-12-04T11:27:10.257185Z",
          "iopub.status.idle": "2023-12-04T11:27:10.267616Z",
          "shell.execute_reply.started": "2023-12-04T11:27:10.257138Z",
          "shell.execute_reply": "2023-12-04T11:27:10.265656Z"
        },
        "trusted": true,
        "id": "q8AbaPal_n_e"
      },
      "execution_count": null,
      "outputs": []
    },
    {
      "cell_type": "code",
      "source": [
        "#Sorts arr\n",
        "arr.sort()\n",
        "arr"
      ],
      "metadata": {
        "execution": {
          "iopub.status.busy": "2023-12-04T11:27:10.269507Z",
          "iopub.execute_input": "2023-12-04T11:27:10.270309Z",
          "iopub.status.idle": "2023-12-04T11:27:10.279901Z",
          "shell.execute_reply.started": "2023-12-04T11:27:10.270261Z",
          "shell.execute_reply": "2023-12-04T11:27:10.278913Z"
        },
        "trusted": true,
        "colab": {
          "base_uri": "https://localhost:8080/"
        },
        "id": "2Sdzuc2m_n_e",
        "outputId": "a441fb9e-95cd-48e9-b258-05a5a9e74369"
      },
      "execution_count": 53,
      "outputs": [
        {
          "output_type": "execute_result",
          "data": {
            "text/plain": [
              "array([1, 2, 3, 4, 6, 7, 9])"
            ]
          },
          "metadata": {},
          "execution_count": 53
        }
      ]
    },
    {
      "cell_type": "code",
      "source": [
        "#Sorts specific axis of arr\n",
        "arr.sort(axis=0)\n",
        "arr"
      ],
      "metadata": {
        "execution": {
          "iopub.status.busy": "2023-12-04T11:27:10.281313Z",
          "iopub.execute_input": "2023-12-04T11:27:10.282018Z",
          "iopub.status.idle": "2023-12-04T11:27:10.292732Z",
          "shell.execute_reply.started": "2023-12-04T11:27:10.281983Z",
          "shell.execute_reply": "2023-12-04T11:27:10.291313Z"
        },
        "trusted": true,
        "colab": {
          "base_uri": "https://localhost:8080/"
        },
        "id": "qbqmLjFr_n_e",
        "outputId": "cf858875-9fbe-492d-e949-1107f5697255"
      },
      "execution_count": 54,
      "outputs": [
        {
          "output_type": "execute_result",
          "data": {
            "text/plain": [
              "array([1, 2, 3, 4, 6, 7, 9])"
            ]
          },
          "metadata": {},
          "execution_count": 54
        }
      ]
    },
    {
      "cell_type": "code",
      "source": [
        "#Appends values to end of arr\n",
        "arr2=np.append(arr,[0,1,2,4,5])\n",
        "arr2"
      ],
      "metadata": {
        "execution": {
          "iopub.status.busy": "2023-12-04T11:27:10.294714Z",
          "iopub.execute_input": "2023-12-04T11:27:10.295177Z",
          "iopub.status.idle": "2023-12-04T11:27:10.309745Z",
          "shell.execute_reply.started": "2023-12-04T11:27:10.295131Z",
          "shell.execute_reply": "2023-12-04T11:27:10.308283Z"
        },
        "trusted": true,
        "colab": {
          "base_uri": "https://localhost:8080/"
        },
        "id": "h8Xe6mJq_n_f",
        "outputId": "19586c8d-b963-41cd-e33c-9a3deee23465"
      },
      "execution_count": 55,
      "outputs": [
        {
          "output_type": "execute_result",
          "data": {
            "text/plain": [
              "array([1, 2, 3, 4, 6, 7, 9, 0, 1, 2, 4, 5])"
            ]
          },
          "metadata": {},
          "execution_count": 55
        }
      ]
    },
    {
      "cell_type": "code",
      "source": [
        "np.concatenate((arr,arr2),axis=0) #Adds arr2 as rows to the end of arr1"
      ],
      "metadata": {
        "execution": {
          "iopub.status.busy": "2023-12-04T11:27:10.311428Z",
          "iopub.execute_input": "2023-12-04T11:27:10.312446Z",
          "iopub.status.idle": "2023-12-04T11:27:10.32474Z",
          "shell.execute_reply.started": "2023-12-04T11:27:10.312397Z",
          "shell.execute_reply": "2023-12-04T11:27:10.322786Z"
        },
        "trusted": true,
        "id": "aMGqZDrO_n_f"
      },
      "execution_count": null,
      "outputs": []
    },
    {
      "cell_type": "code",
      "source": [
        "#Adds arr2 as columns to end of arr1\n",
        "trans=np.array([(1,2,3,4),(5,6,7,8)])\n",
        "np.concatenate((trans,trans),axis=1)"
      ],
      "metadata": {
        "execution": {
          "iopub.status.busy": "2023-12-04T11:27:10.326796Z",
          "iopub.execute_input": "2023-12-04T11:27:10.327251Z",
          "iopub.status.idle": "2023-12-04T11:27:10.336936Z",
          "shell.execute_reply.started": "2023-12-04T11:27:10.327218Z",
          "shell.execute_reply": "2023-12-04T11:27:10.335575Z"
        },
        "trusted": true,
        "id": "3ycvx_o7_n_f"
      },
      "execution_count": null,
      "outputs": []
    },
    {
      "cell_type": "code",
      "source": [],
      "metadata": {
        "id": "vLN716ll_n_f"
      },
      "execution_count": null,
      "outputs": []
    },
    {
      "cell_type": "code",
      "source": [],
      "metadata": {
        "id": "mFWTnRAH_n_f"
      },
      "execution_count": null,
      "outputs": []
    },
    {
      "cell_type": "code",
      "source": [],
      "metadata": {
        "id": "l0BcdaXa_n_g"
      },
      "execution_count": null,
      "outputs": []
    }
  ]
}